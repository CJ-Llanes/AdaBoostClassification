{
 "cells": [
  {
   "cell_type": "markdown",
   "metadata": {},
   "source": [
    "## Charly Llanes"
   ]
  },
  {
   "cell_type": "markdown",
   "metadata": {},
   "source": [
    "# Parameters"
   ]
  },
  {
   "cell_type": "markdown",
   "metadata": {},
   "source": [
    "###   base_estimator : object, optional (default=None)\n",
    "        The base estimator from which the boosted ensemble is built. Support for sample weighting is required, as well as proper classes_ and n_classes_ attributes. If None, then the base estimator is DecisionTreeClassifier(max_depth=1)\n",
    "        In this case, it was set the value None(default)\n",
    "  \n",
    "###  n_estimators : integer, optional (default=50)\n",
    "        The maximum number of estimators at which boosting is terminated. In case of perfect fit, the learning procedure is stopped early.\n",
    "        For this test, it was enough to set 3 estimatos of the 4, to have the best accuracy\n",
    "###  learning_rate : float, optional (default=1.)\n",
    "        Learning rate shrinks the contribution of each classifier by learning_rate. There is a trade-off between learning_rate and n_estimators.\n",
    "        The accuracy change between every run, but with a value of 0.9, the accuracy goes from 0.93333 to 1\n",
    "        \n",
    "### algorithm : {‘SAMME’, ‘SAMME.R’}, optional (default=’SAMME.R’)\n",
    "        f ‘SAMME.R’ then use the SAMME.R real boosting algorithm. base_estimator must support calculation of class probabilities. If ‘SAMME’ then use the SAMME discrete boosting algorithm. The SAMME.R algorithm typically converges faster than SAMME, achieving a lower test error with fewer boosting iterations.\n",
    "        \n",
    "### random_state : int, RandomState instance or None, optional (default=None)\n",
    "        If int, random_state is the seed used by the random number generator; If RandomState instance, random_state is the random number generator; If None, the random number generator is the RandomState instance used by np.random.\n",
    "        set in default"
   ]
  },
  {
   "cell_type": "code",
   "execution_count": 3,
   "metadata": {},
   "outputs": [],
   "source": [
    "from sklearn import datasets\n",
    "from sklearn.ensemble import AdaBoostClassifier\n",
    "from sklearn.ensemble import AdaBoostRegressor\n",
    "from sklearn.linear_model import LinearRegression\n",
    "from sklearn import metrics\n",
    "import numpy as np \n",
    "import pandas as pd \n",
    "import seaborn as sns \n",
    "import matplotlib.pyplot as plt \n",
    "from sklearn.model_selection import train_test_split"
   ]
  },
  {
   "cell_type": "code",
   "execution_count": 109,
   "metadata": {},
   "outputs": [
    {
     "name": "stdout",
     "output_type": "stream",
     "text": [
      "\t\tMetrics classification report\n",
      "               precision    recall  f1-score   support\n",
      "\n",
      "           0       1.00      1.00      1.00        20\n",
      "           1       0.88      1.00      0.93        14\n",
      "           2       1.00      0.82      0.90        11\n",
      "\n",
      "   micro avg       0.96      0.96      0.96        45\n",
      "   macro avg       0.96      0.94      0.94        45\n",
      "weighted avg       0.96      0.96      0.95        45\n",
      " \n",
      "\tConfusion Matrix\n",
      " [[20  0  0]\n",
      " [ 0 14  0]\n",
      " [ 0  2  9]] \n",
      "\n",
      "\tAccuracy: 0.955555555556\n"
     ]
    }
   ],
   "source": [
    "dataset = datasets.load_iris()\n",
    "X = dataset.data\n",
    "y = dataset.target\n",
    "X_train, X_test, y_train, y_test = train_test_split(X, y, test_size=0.30)\n",
    "    \n",
    "model = AdaBoostClassifier(base_estimator=None, algorithm='SAMME.R',\n",
    "                              learning_rate=0.9, n_estimators=3, random_state=None)\n",
    "model.fit(X_train, y_train)\n",
    "expected_y  = y_test\n",
    "predicted_y = model.predict(X_test)\n",
    "    \n",
    "print(\"\\t\\tMetrics classification report\\n\",\n",
    "      metrics.classification_report(expected_y, predicted_y),\n",
    "      \"\\n\\tConfusion Matrix\\n\",\n",
    "      metrics.confusion_matrix(expected_y, predicted_y),\n",
    "      \"\\n\\n\\tAccuracy:\",metrics.accuracy_score(y_test, predicted_y))  \n"
   ]
  },
  {
   "cell_type": "code",
   "execution_count": 132,
   "metadata": {},
   "outputs": [
    {
     "data": {
      "text/plain": [
       "<matplotlib.axes._subplots.AxesSubplot at 0x7efc51057668>"
      ]
     },
     "execution_count": 132,
     "metadata": {},
     "output_type": "execute_result"
    },
    {
     "data": {
      "image/png": "[encoded data removed]",
      "text/plain": [
       "<matplotlib.figure.Figure at 0x7efc51057198>"
      ]
     },
     "metadata": {},
     "output_type": "display_data"
    }
   ],
   "source": [
    "plt.style.use('grayscale')\n",
    "\n",
    "plt.figure(figsize=(8,8))\n",
    "sns.regplot(y_test, predicted_y, fit_reg=True, scatter_kws={\"s\": 100})"
   ]
  },
  {
   "cell_type": "markdown",
   "metadata": {},
   "source": [
    "### Worst case"
   ]
  },
  {
   "cell_type": "code",
   "execution_count": 144,
   "metadata": {},
   "outputs": [
    {
     "name": "stdout",
     "output_type": "stream",
     "text": [
      "\t\tMetrics classification report\n",
      "               precision    recall  f1-score   support\n",
      "\n",
      "           0       1.00      1.00      1.00        14\n",
      "           1       0.00      0.00      0.00        17\n",
      "           2       0.45      1.00      0.62        14\n",
      "\n",
      "   micro avg       0.62      0.62      0.62        45\n",
      "   macro avg       0.48      0.67      0.54        45\n",
      "weighted avg       0.45      0.62      0.50        45\n",
      " \n",
      "\tConfusion Matrix\n",
      " [[14  0  0]\n",
      " [ 0  0 17]\n",
      " [ 0  0 14]] \n",
      "\n",
      "\tAccuracy: 0.622222222222\n"
     ]
    },
    {
     "name": "stderr",
     "output_type": "stream",
     "text": [
      "/usr/local/lib/python3.6/dist-packages/sklearn/metrics/classification.py:1143: UndefinedMetricWarning: Precision and F-score are ill-defined and being set to 0.0 in labels with no predicted samples.\n",
      "  'precision', 'predicted', average, warn_for)\n",
      "/usr/local/lib/python3.6/dist-packages/sklearn/metrics/classification.py:1143: UndefinedMetricWarning: Precision and F-score are ill-defined and being set to 0.0 in labels with no predicted samples.\n",
      "  'precision', 'predicted', average, warn_for)\n",
      "/usr/local/lib/python3.6/dist-packages/sklearn/metrics/classification.py:1143: UndefinedMetricWarning: Precision and F-score are ill-defined and being set to 0.0 in labels with no predicted samples.\n",
      "  'precision', 'predicted', average, warn_for)\n"
     ]
    }
   ],
   "source": [
    "dataset = datasets.load_iris()\n",
    "X = dataset.data\n",
    "y = dataset.target\n",
    "X_train, X_test, y_train, y_test = train_test_split(X, y, test_size=0.30)\n",
    "    \n",
    "model = AdaBoostClassifier(base_estimator=None, algorithm='SAMME',\n",
    "                              learning_rate=0.1, n_estimators=1, random_state=None)\n",
    "model.fit(X_train, y_train)\n",
    "expected_y  = y_test\n",
    "predicted_y = model.predict(X_test)\n",
    "    \n",
    "print(\"\\t\\tMetrics classification report\\n\",\n",
    "      metrics.classification_report(expected_y, predicted_y),\n",
    "      \"\\n\\tConfusion Matrix\\n\",\n",
    "      metrics.confusion_matrix(expected_y, predicted_y),\n",
    "      \"\\n\\n\\tAccuracy:\",metrics.accuracy_score(y_test, predicted_y))  "
   ]
  },
  {
   "cell_type": "code",
   "execution_count": null,
   "metadata": {},
   "outputs": [],
   "source": []
  }
 ],
 "metadata": {
  "kernelspec": {
   "display_name": "Python 3",
   "language": "python",
   "name": "python3"
  },
  "language_info": {
   "codemirror_mode": {
    "name": "ipython",
    "version": 3
   },
   "file_extension": ".py",
   "mimetype": "text/x-python",
   "name": "python",
   "nbconvert_exporter": "python",
   "pygments_lexer": "ipython3",
   "version": "3.6.8"
  }
 },
 "nbformat": 4,
 "nbformat_minor": 2
}
